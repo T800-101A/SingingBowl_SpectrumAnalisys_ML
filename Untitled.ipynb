{
 "cells": [
  {
   "cell_type": "code",
   "execution_count": 3,
   "id": "d604c02e-6eeb-460d-b3c0-d13e9e9655c8",
   "metadata": {},
   "outputs": [],
   "source": [
    "import pyaudio\n",
    "import wave\n",
    "import os\n"
   ]
  },
  {
   "cell_type": "code",
   "execution_count": 24,
   "id": "09262700-1dee-4c87-b4b7-71edf4ca3a83",
   "metadata": {},
   "outputs": [],
   "source": [
    "# The following parameters can be adjusted to suit your needs\n",
    "FORMAT = pyaudio.paInt16  # Audio format\n",
    "CHANNELS = 1              # Monaural sound\n",
    "RATE = 48000              # Bit Rate --- 48000 before\n",
    "CHUNK = 1024              # Number of frames per buffer --- 1024 before\n",
    "RECORD_SECONDS = 60       # Recording duration\n",
    "WAVE_OUTPUT_FILENAME = \"output.wav\"\n",
    "FOLDER_NAME = 'audio_samples'\n",
    "DEVICE_INDEX = 10       # If None, the default audio input device is used\n"
   ]
  },
  {
   "cell_type": "code",
   "execution_count": 25,
   "id": "b619e990-2dc9-4a0b-b3f0-976a6e58e700",
   "metadata": {},
   "outputs": [
    {
     "name": "stdout",
     "output_type": "stream",
     "text": [
      "Input Device id  4  -  sof-hda-dsp: - (hw:1,0)\n",
      "Input Device id  8  -  sof-hda-dsp: - (hw:1,6)\n",
      "Input Device id  9  -  sof-hda-dsp: - (hw:1,7)\n",
      "Input Device id  10  -  TONOR TC30 Audio Device: USB Audio (hw:2,0)\n",
      "Input Device id  11  -  C922 Pro Stream Webcam: USB Audio (hw:3,0)\n",
      "Input Device id  13  -  pulse\n",
      "Input Device id  14  -  default\n"
     ]
    }
   ],
   "source": [
    "# Check available devices if you're not sure which index to use\n",
    "p = pyaudio.PyAudio()\n",
    "info = p.get_host_api_info_by_index(0)\n",
    "num_devices = info.get('deviceCount')\n",
    "for i in range(0, num_devices):\n",
    "    if (p.get_device_info_by_host_api_device_index(0, i).get('maxInputChannels')) > 0:\n",
    "        print(\"Input Device id \", i, \" - \", p.get_device_info_by_host_api_device_index(0, i).get('name'))\n"
   ]
  },
  {
   "cell_type": "code",
   "execution_count": 26,
   "id": "58a6e558-bc68-4253-af02-83c0829303a3",
   "metadata": {},
   "outputs": [
    {
     "name": "stdout",
     "output_type": "stream",
     "text": [
      "Recording started for output.wav...\n",
      "Recording finished.\n"
     ]
    }
   ],
   "source": [
    "# Ensure the folder exists\n",
    "os.makedirs(FOLDER_NAME, exist_ok=True)\n",
    "\n",
    "def record_audio(file_name):\n",
    "    audio = pyaudio.PyAudio()\n",
    "\n",
    "    # Start recording\n",
    "    stream = audio.open(format=FORMAT, channels=CHANNELS,\n",
    "                        rate=RATE, input=True, frames_per_buffer=CHUNK,\n",
    "                        input_device_index=DEVICE_INDEX)\n",
    "\n",
    "    print(f\"Recording started for {file_name}...\")\n",
    "\n",
    "    frames = []\n",
    "\n",
    "    for i in range(0, int(RATE / CHUNK * RECORD_SECONDS)):\n",
    "        try:\n",
    "                data = stream.read(CHUNK, exception_on_overflow=False)\n",
    "                frames.append(data)\n",
    "        except IOError as e:\n",
    "            print(f\"IOError: {e}\")\n",
    "            \n",
    "\n",
    "    print(\"Recording finished.\")\n",
    "    \n",
    "    # Stop and close the stream\n",
    "    stream.stop_stream()\n",
    "    stream.close()\n",
    "    audio.terminate()\n",
    "\n",
    "    # Save the recorded data as a WAV file\n",
    "    file_path = os.path.join(FOLDER_NAME, file_name)\n",
    "    with wave.open(file_path, 'wb') as wf:\n",
    "        wf.setnchannels(CHANNELS)\n",
    "        wf.setsampwidth(audio.get_sample_size(FORMAT))\n",
    "        wf.setframerate(RATE)\n",
    "        wf.writeframes(b''.join(frames))\n",
    "\n",
    "# Example usage:\n",
    "record_audio(WAVE_OUTPUT_FILENAME)\n"
   ]
  },
  {
   "cell_type": "code",
   "execution_count": 19,
   "id": "9e5c3b5f-9617-4b29-8307-72063fc50c5c",
   "metadata": {},
   "outputs": [
    {
     "ename": "NameError",
     "evalue": "name 'stream' is not defined",
     "output_type": "error",
     "traceback": [
      "\u001b[0;31m---------------------------------------------------------------------------\u001b[0m",
      "\u001b[0;31mNameError\u001b[0m                                 Traceback (most recent call last)",
      "Cell \u001b[0;32mIn[19], line 2\u001b[0m\n\u001b[1;32m      1\u001b[0m \u001b[38;5;66;03m# Stop and close the stream\u001b[39;00m\n\u001b[0;32m----> 2\u001b[0m \u001b[43mstream\u001b[49m\u001b[38;5;241m.\u001b[39mstop_stream()\n\u001b[1;32m      3\u001b[0m stream\u001b[38;5;241m.\u001b[39mclose()\n\u001b[1;32m      4\u001b[0m audio\u001b[38;5;241m.\u001b[39mterminate()\n",
      "\u001b[0;31mNameError\u001b[0m: name 'stream' is not defined"
     ]
    }
   ],
   "source": [
    "\n",
    "\n",
    "    "
   ]
  },
  {
   "cell_type": "code",
   "execution_count": null,
   "id": "da9058e0-27c9-473c-96f7-ae3e64cb1f3d",
   "metadata": {},
   "outputs": [],
   "source": []
  }
 ],
 "metadata": {
  "kernelspec": {
   "display_name": "Python 3 (ipykernel)",
   "language": "python",
   "name": "python3"
  },
  "language_info": {
   "codemirror_mode": {
    "name": "ipython",
    "version": 3
   },
   "file_extension": ".py",
   "mimetype": "text/x-python",
   "name": "python",
   "nbconvert_exporter": "python",
   "pygments_lexer": "ipython3",
   "version": "3.9.18"
  }
 },
 "nbformat": 4,
 "nbformat_minor": 5
}
